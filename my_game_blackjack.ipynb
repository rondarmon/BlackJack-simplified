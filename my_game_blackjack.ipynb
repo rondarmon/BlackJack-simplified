{
  "nbformat": 4,
  "nbformat_minor": 0,
  "metadata": {
    "kernelspec": {
      "display_name": "Python 3",
      "language": "python",
      "name": "python3"
    },
    "language_info": {
      "codemirror_mode": {
        "name": "ipython",
        "version": 3
      },
      "file_extension": ".py",
      "mimetype": "text/x-python",
      "name": "python",
      "nbconvert_exporter": "python",
      "pygments_lexer": "ipython3",
      "version": "3.8.3"
    },
    "colab": {
      "name": "my game - blackjack.ipynb",
      "provenance": []
    }
  },
  "cells": [
    {
      "cell_type": "code",
      "metadata": {
        "id": "7QJEsV_vxNTM"
      },
      "source": [
        "import random\n",
        "from IPython.display import clear_output\n",
        "ranks=('2','3','4','5','6','7','8','9','10','J','Q','K','A')\n",
        "values = {'2':2,'3':3,'4':4,'5':5,'6':6,'7':7,'8':8,\n",
        "          '9':9,'10':10,'J':10,'Q':10,'K':10,'A':11}\n",
        "suits = {'Hearts':\"♥\",'Diamonds':'♦','Spades':'♠','Clubs':'♣' }"
      ],
      "execution_count": 1,
      "outputs": []
    },
    {
      "cell_type": "code",
      "metadata": {
        "id": "qVQNCLIXxNTP"
      },
      "source": [
        "class Card():\n",
        "    '''\n",
        "    Creates a Card based on the suit and rank\n",
        "    '''\n",
        "    \n",
        "\n",
        "    def __init__(self,suit,rank):\n",
        "        self.rank = rank\n",
        "        self.suit = suit\n",
        "        self.symbol = suits[suit]\n",
        "\n",
        "    def __str__(self):\n",
        "        if self.rank != '10':\n",
        "            return (f\" ___ \\n|{self.symbol}  |\\n| {self.rank} |\\n|  {self.symbol}|\\n ‾‾‾ \")\n",
        "\n",
        "        else:\n",
        "            return (f\" ____ \\n|{self.symbol}   |\\n| {self.rank} |\\n|   {self.symbol}|\\n ‾‾‾‾ \")"
      ],
      "execution_count": 2,
      "outputs": []
    },
    {
      "cell_type": "code",
      "metadata": {
        "id": "jnayVNPJxNTQ"
      },
      "source": [
        "class Deck():\n",
        "    '''\n",
        "    Creates a deck of cards for all suits and rank to a total of 52 cards.\n",
        "    The Deck then shuffles the cards and can deal one card by popping it off the list.\n",
        "    '''\n",
        "    \n",
        "    def __init__(self):\n",
        "        \n",
        "        self.all_cards = []\n",
        "        \n",
        "        for suit in suits:\n",
        "            for rank in ranks:\n",
        "                # Create the card object\n",
        "                created_card = Card(suit,rank)\n",
        "                self.all_cards.append(created_card)\n",
        "                \n",
        "                \n",
        "    def __str__(self):\n",
        "        for card in self.all_cards:\n",
        "            print(card)\n",
        "    \n",
        "              \n",
        "    def shuffle(self):  \n",
        "        random.shuffle(self.all_cards)\n",
        "        \n",
        "    def deal_one(self):\n",
        "        one_card = self.all_cards.pop()\n",
        "        return one_card"
      ],
      "execution_count": 3,
      "outputs": []
    },
    {
      "cell_type": "code",
      "metadata": {
        "id": "A41i2-CtxNTQ"
      },
      "source": [
        "test_deck = Deck()"
      ],
      "execution_count": 5,
      "outputs": []
    },
    {
      "cell_type": "code",
      "metadata": {
        "id": "RKNskC90xNTR"
      },
      "source": [
        "class Hand:\n",
        "    '''\n",
        "    Deals a card\n",
        "    if Value exceeds 21 the A becomes 1. \n",
        "    '''\n",
        "    def __init__(self):\n",
        "        self.cards = []  # start with an empty list as we did in the Deck class\n",
        "        self.value = 0\n",
        "        self.aces = 0\n",
        "        # start with zero value\n",
        "        # add an attribute to keep track of aces\n",
        "    \n",
        "    def add_card(self,card):\n",
        "        # This self.cards.append(card) via deck.deal_one\n",
        "        self.cards.append(card)\n",
        "        self.value += values[card.rank]\n",
        "    \n",
        "    def adjust_for_ace(self):\n",
        "        # IF TOTAL VALUE > 21 AND I STILL HAVE AN ACE\n",
        "        # THEN CHANGE MY ACE TO BE A 1 INSTEAD OF AN 11\n",
        "        for card in self.cards:\n",
        "            if values[card.rank] == 11 and self.value > 21:\n",
        "                values[card.rank] = 1\n",
        "                self.value -=10\n",
        "            \n"
      ],
      "execution_count": 6,
      "outputs": []
    },
    {
      "cell_type": "code",
      "metadata": {
        "colab": {
          "base_uri": "https://localhost:8080/"
        },
        "id": "TAfCgFvmxNTS",
        "outputId": "20d8397c-ab96-46ee-c1f6-a8e6a0a0f544"
      },
      "source": [
        "test_deck = Deck()\n",
        "test_deck.shuffle()\n",
        "test_player = Hand()\n",
        "pulled_card = test_deck.deal_one()\n",
        "\n",
        "test_player.add_card(pulled_card)\n",
        "pulled_card = test_deck.deal_one()\n",
        "\n",
        "test_player.add_card(pulled_card)\n",
        "\n",
        "# OR another way of writing it is:\n",
        "test_player.adjust_for_ace()\n",
        "for card in test_player.cards:\n",
        "    print(card)\n",
        "print(test_player.value)\n",
        "\n"
      ],
      "execution_count": 7,
      "outputs": [
        {
          "output_type": "stream",
          "text": [
            " ___ \n",
            "|♥  |\n",
            "| 5 |\n",
            "|  ♥|\n",
            " ‾‾‾ \n",
            " ___ \n",
            "|♦  |\n",
            "| J |\n",
            "|  ♦|\n",
            " ‾‾‾ \n",
            "15\n"
          ],
          "name": "stdout"
        }
      ]
    },
    {
      "cell_type": "code",
      "metadata": {
        "id": "7AQ2aKL4xNTS"
      },
      "source": [
        "class Chips:\n",
        "    '''\n",
        "    Takes in the chips you have and adding / decreasing the amount depending on the bet\n",
        "    '''\n",
        "    \n",
        "    def __init__(self):\n",
        "        self.bet = 0\n",
        "        self.totalchips = 100\n",
        "        \n",
        "        while True:\n",
        "            try:\n",
        "                self.totalchips = int(input(\"Please enter the total number of chips you have: \"))\n",
        "                while self.totalchips < 0:\n",
        "                    try:\n",
        "                        self.totalchips = int(input(\"Error, please inset a positive number of chips: \"))\n",
        "                    except:\n",
        "                        continue\n",
        "                \n",
        "                break\n",
        "            except:\n",
        "                print(\"Sorry you didn't enter the number of chips, try again: \\n\")\n",
        "                continue\n",
        "                \n",
        "    \n",
        "    def win(self):\n",
        "        self.totalchips += self.bet\n",
        "    \n",
        "    def lose(self):\n",
        "        self.totalchips -= self.bet\n",
        "                "
      ],
      "execution_count": 8,
      "outputs": []
    },
    {
      "cell_type": "code",
      "metadata": {
        "id": "dZ7CHYV-xNTT"
      },
      "source": [
        "#Gamble function to take in a bet\n",
        "\n",
        "def gamble(chips):\n",
        "    \n",
        "     while True:\n",
        "            try:\n",
        "                chips.bet = int(input(\"Please enter your bet: \"))\n",
        "                if chips.bet > chips.totalchips:\n",
        "                    print(\"Sorry you must enter a number bellow or equal to the total amount of chips you have!\")\n",
        "                    continue\n",
        "                else:\n",
        "                    break\n",
        "            except:\n",
        "                print(\"Sorry you didn't enter a number, try again bellow\")"
      ],
      "execution_count": 9,
      "outputs": []
    },
    {
      "cell_type": "code",
      "metadata": {
        "id": "bmWea7rsxNTT"
      },
      "source": [
        "def hit_stand(deck,hand):\n",
        "    global game_on\n",
        "\n",
        "    \n",
        "    while True:\n",
        "        x = input(\"Hit or Stand? write hit or press any key to stand: \")\n",
        "        \n",
        "        if x == '' or x[0].lower() != 'h':\n",
        "            print(\"Player stands. Dealer is playing\")\n",
        "            game_on = False\n",
        "            \n",
        "            \n",
        "        elif x[0].lower() == 'h':\n",
        "            hand.add_card(deck.deal_one())\n",
        "            hand.adjust_for_ace()\n",
        "            \n",
        "        else:\n",
        "            print(\"Please enter a valid answer\")\n",
        "            continue\n",
        "        break"
      ],
      "execution_count": 10,
      "outputs": []
    },
    {
      "cell_type": "code",
      "metadata": {
        "colab": {
          "base_uri": "https://localhost:8080/"
        },
        "id": "tx_TtP4RxNTU",
        "outputId": "7a8b4e7a-55cf-4bfa-d673-a54f83c9eca9"
      },
      "source": [
        "# Print an opening statement\n",
        "player_name = input(\"Please enter your name: \")\n",
        "clear_output()\n",
        "print(f'{player_name}, Welcome to BlackJack {player_name}!')\n",
        "print('The game start with you recieving 2 cards, you can choose to hit (get an extra card) or stand (let the dealer play)')\n",
        "print('The goal is reaching as close as you can to 21 point without going over.')\n",
        "print('All cards are normal point excepts J-K which are 10 points, and Ace is 11 points')\n",
        "print('If the sum of your value is over 21 poins & you have an Ace -  it will convert to 1 point.')\n",
        "print('The dealer goes until they reach 17.\\n\\nGOOD LUCK!')\n",
        "\n",
        "# Set up the Player's chips\n",
        "player_chips = Chips()\n",
        "game_on = True\n",
        "\n",
        "\n",
        "while True:\n",
        "   \n",
        "    deck = Deck() #deck creation\n",
        "    deck.shuffle() #shuffling the deck\n",
        "    \n",
        "    # Adding 2 cards to the player\n",
        "    player_hand = Hand()\n",
        "    player_hand.add_card(deck.deal_one())\n",
        "    player_hand.add_card(deck.deal_one())\n",
        "    \n",
        "    # Adding 2 cards to the Dealer\n",
        "    dealer_hand = Hand()\n",
        "    dealer_hand.add_card(deck.deal_one())\n",
        "    dealer_hand.add_card(deck.deal_one())\n",
        "            \n",
        "        \n",
        "    # putting the gamble into play, must be less than the chips the player has\n",
        "    gamble(player_chips)\n",
        "    \n",
        "    # show 2 cards of the player, 1 of comp\n",
        "    print(\"\\nDealer's Hand:\")\n",
        "    print(\" ___ \\n|?  |\\n| ? |\\n|  ?|\\n ‾‾‾ \")\n",
        "    print(dealer_hand.cards[1])  \n",
        "    print(f\"\\n{player_name}'s Hand:\\n\")\n",
        "    for card in player_hand.cards:\n",
        "        print(card)\n",
        "\n",
        "    \n",
        "    while game_on:  \n",
        "        \n",
        "        # hit / stand for the player\n",
        "        hit_stand(deck,player_hand)\n",
        "        print(player_hand.value)\n",
        "        \n",
        "        # show cards of the player, 1 of comp\n",
        "        print(\"\\nDealer's Hand:\")\n",
        "        print(\" ___ \\n|?  |\\n| ? |\\n|  ?|\\n ‾‾‾ \")\n",
        "        print(dealer_hand.cards[1])  \n",
        "        print(f\"\\n{player_name}'s Hand:\\n\")\n",
        "        for card in player_hand.cards:\n",
        "            print(card)\n",
        "        \n",
        "        # if over 21 - the player BUSTS \n",
        "        if player_hand.value > 21:\n",
        "            print(f\"bad time to be {player_name}! because you just BUST\")\n",
        "            player_chips.lose()\n",
        "            break        \n",
        "\n",
        "\n",
        "    # If Player hasn't busted, play Dealer's hand until Dealer reaches 17 \n",
        "    if player_hand.value <= 21:\n",
        "        \n",
        "        while dealer_hand.value < 17:\n",
        "            dealer_hand.add_card(deck.deal_one())\n",
        "            dealer_hand.adjust_for_ace()    \n",
        "    \n",
        "        # Show all cards\n",
        "        clear_output()\n",
        "        print('\\nGame is finished!!')\n",
        "        print(\"Dealer's Hand =\",dealer_hand.value)\n",
        "        for card in dealer_hand.cards:\n",
        "            print(card)\n",
        "        print(f'{player_name} Hand = {player_hand.value}')\n",
        "        for card in player_hand.cards:\n",
        "            print(card)\n",
        "        \n",
        "        # IF ELIF WIN \\ LOSE\n",
        "        if dealer_hand.value > 21:\n",
        "            print(f\"DEALER BUSTS!!\\nGOOD time to be {player_name}! because you just WON\")\n",
        "            player_chips.win()\n",
        "             \n",
        "\n",
        "        elif dealer_hand.value > player_hand.value:\n",
        "            print(f\"bad time to be {player_name}! because you just LOST\")\n",
        "            player_chips.lose()\n",
        "                  \n",
        "\n",
        "        elif dealer_hand.value < player_hand.value:\n",
        "            print(f\"DEALER BUSTS!!\\nGOOD time to be {player_name}! because you just WON\")\n",
        "            player_chips.win()\n",
        "             \n",
        "\n",
        "        else:\n",
        "            print(\"\\n TIE!!! no one wins\")        \n",
        "    \n",
        "    # total chips(gain or lost)\n",
        "    print(f\"\\n{player_name}'s winnings stand at\",player_chips.totalchips)\n",
        "    \n",
        "    # Ask for another game\n",
        "    new_game = input(f\"Would you like to play another hand {player_name}? Enter 'y' or 'n' \")\n",
        "    clear_output()\n",
        "    \n",
        "    #Continue playing\n",
        "    if new_game == '' or new_game[0].lower()=='y' :\n",
        "        game_on=True\n",
        "        continue\n",
        "    #stop playing    \n",
        "    else:\n",
        "        print(f\"Thanks for playing {player_name}!\")\n",
        "        break"
      ],
      "execution_count": 11,
      "outputs": [
        {
          "output_type": "stream",
          "text": [
            "Thanks for playing Ron Darmon!\n"
          ],
          "name": "stdout"
        }
      ]
    },
    {
      "cell_type": "code",
      "metadata": {
        "colab": {
          "base_uri": "https://localhost:8080/"
        },
        "id": "FxV_jcjixNTV",
        "outputId": "f795ade5-1cc4-4c31-8081-077109d91d01"
      },
      "source": [
        "print(player_hand.value)"
      ],
      "execution_count": 12,
      "outputs": [
        {
          "output_type": "stream",
          "text": [
            "21\n"
          ],
          "name": "stdout"
        }
      ]
    }
  ]
}